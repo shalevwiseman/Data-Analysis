{
 "cells": [
  {
   "cell_type": "code",
   "execution_count": 4,
   "id": "96fdf145",
   "metadata": {},
   "outputs": [],
   "source": [
    "import sqlite3\n",
    "import pandas as pd"
   ]
  },
  {
   "cell_type": "code",
   "execution_count": null,
   "id": "4b929dfa",
   "metadata": {},
   "outputs": [],
   "source": []
  },
  {
   "cell_type": "code",
   "execution_count": 5,
   "id": "3f328722",
   "metadata": {},
   "outputs": [],
   "source": [
    "conn = sqlite3.connect('healthcare_data.db')\n",
    "cursor = conn.cursor()"
   ]
  },
  {
   "cell_type": "code",
   "execution_count": 3,
   "id": "dc0aa002",
   "metadata": {},
   "outputs": [
    {
     "data": {
      "text/plain": [
       "<sqlite3.Cursor at 0x7fe73140ba40>"
      ]
     },
     "execution_count": 3,
     "metadata": {},
     "output_type": "execute_result"
    }
   ],
   "source": [
    "# Create Patients Table\n",
    "cursor.execute('''\n",
    "    CREATE TABLE IF NOT EXISTS patients (\n",
    "        patient_id INTEGER PRIMARY KEY,\n",
    "        patient_name TEXT NOT NULL\n",
    "    )\n",
    "''')"
   ]
  },
  {
   "cell_type": "code",
   "execution_count": 7,
   "id": "59c809a9",
   "metadata": {},
   "outputs": [
    {
     "data": {
      "text/html": [
       "<div>\n",
       "<style scoped>\n",
       "    .dataframe tbody tr th:only-of-type {\n",
       "        vertical-align: middle;\n",
       "    }\n",
       "\n",
       "    .dataframe tbody tr th {\n",
       "        vertical-align: top;\n",
       "    }\n",
       "\n",
       "    .dataframe thead th {\n",
       "        text-align: right;\n",
       "    }\n",
       "</style>\n",
       "<table border=\"1\" class=\"dataframe\">\n",
       "  <thead>\n",
       "    <tr style=\"text-align: right;\">\n",
       "      <th></th>\n",
       "      <th>patient_id</th>\n",
       "      <th>patient_name</th>\n",
       "    </tr>\n",
       "  </thead>\n",
       "  <tbody>\n",
       "  </tbody>\n",
       "</table>\n",
       "</div>"
      ],
      "text/plain": [
       "Empty DataFrame\n",
       "Columns: [patient_id, patient_name]\n",
       "Index: []"
      ]
     },
     "execution_count": 7,
     "metadata": {},
     "output_type": "execute_result"
    }
   ],
   "source": [
    "# Query and display the contents of the 'patients' table\n",
    "patients_df = pd.read_sql_query(\"SELECT * FROM patients\", conn)\n",
    "patients_df"
   ]
  },
  {
   "cell_type": "code",
   "execution_count": 9,
   "id": "3fc07e78",
   "metadata": {},
   "outputs": [
    {
     "data": {
      "text/html": [
       "<div>\n",
       "<style scoped>\n",
       "    .dataframe tbody tr th:only-of-type {\n",
       "        vertical-align: middle;\n",
       "    }\n",
       "\n",
       "    .dataframe tbody tr th {\n",
       "        vertical-align: top;\n",
       "    }\n",
       "\n",
       "    .dataframe thead th {\n",
       "        text-align: right;\n",
       "    }\n",
       "</style>\n",
       "<table border=\"1\" class=\"dataframe\">\n",
       "  <thead>\n",
       "    <tr style=\"text-align: right;\">\n",
       "      <th></th>\n",
       "      <th>type_id</th>\n",
       "      <th>coding_system</th>\n",
       "      <th>coding_code</th>\n",
       "      <th>coding_display</th>\n",
       "      <th>text</th>\n",
       "    </tr>\n",
       "  </thead>\n",
       "  <tbody>\n",
       "  </tbody>\n",
       "</table>\n",
       "</div>"
      ],
      "text/plain": [
       "Empty DataFrame\n",
       "Columns: [type_id, coding_system, coding_code, coding_display, text]\n",
       "Index: []"
      ]
     },
     "execution_count": 9,
     "metadata": {},
     "output_type": "execute_result"
    }
   ],
   "source": [
    "# Create EncounterTypes Table\n",
    "cursor.execute('''\n",
    "    CREATE TABLE IF NOT EXISTS encounter_types (\n",
    "        type_id INTEGER PRIMARY KEY,\n",
    "        coding_system TEXT,\n",
    "        coding_code TEXT,\n",
    "        coding_display TEXT,\n",
    "        text TEXT\n",
    "    )\n",
    "''')\n",
    "# Query and display\n",
    "encounter_types = pd.read_sql_query(\"SELECT * FROM encounter_types\", conn)\n",
    "encounter_types"
   ]
  },
  {
   "cell_type": "code",
   "execution_count": 13,
   "id": "98c783be",
   "metadata": {},
   "outputs": [
    {
     "data": {
      "text/html": [
       "<div>\n",
       "<style scoped>\n",
       "    .dataframe tbody tr th:only-of-type {\n",
       "        vertical-align: middle;\n",
       "    }\n",
       "\n",
       "    .dataframe tbody tr th {\n",
       "        vertical-align: top;\n",
       "    }\n",
       "\n",
       "    .dataframe thead th {\n",
       "        text-align: right;\n",
       "    }\n",
       "</style>\n",
       "<table border=\"1\" class=\"dataframe\">\n",
       "  <thead>\n",
       "    <tr style=\"text-align: right;\">\n",
       "      <th></th>\n",
       "      <th>location_id</th>\n",
       "      <th>location_reference</th>\n",
       "      <th>location_display</th>\n",
       "    </tr>\n",
       "  </thead>\n",
       "  <tbody>\n",
       "  </tbody>\n",
       "</table>\n",
       "</div>"
      ],
      "text/plain": [
       "Empty DataFrame\n",
       "Columns: [location_id, location_reference, location_display]\n",
       "Index: []"
      ]
     },
     "execution_count": 13,
     "metadata": {},
     "output_type": "execute_result"
    }
   ],
   "source": [
    "# Create Locations Table\n",
    "cursor.execute('''\n",
    "    CREATE TABLE IF NOT EXISTS locations (\n",
    "        location_id INTEGER PRIMARY KEY,\n",
    "        location_reference TEXT,\n",
    "        location_display TEXT\n",
    "    )\n",
    "''')\n",
    "# Query and display\n",
    "locations = pd.read_sql_query(\"SELECT * FROM locations\", conn)\n",
    "locations"
   ]
  },
  {
   "cell_type": "code",
   "execution_count": 14,
   "id": "6d72e7b1",
   "metadata": {},
   "outputs": [
    {
     "data": {
      "text/html": [
       "<div>\n",
       "<style scoped>\n",
       "    .dataframe tbody tr th:only-of-type {\n",
       "        vertical-align: middle;\n",
       "    }\n",
       "\n",
       "    .dataframe tbody tr th {\n",
       "        vertical-align: top;\n",
       "    }\n",
       "\n",
       "    .dataframe thead th {\n",
       "        text-align: right;\n",
       "    }\n",
       "</style>\n",
       "<table border=\"1\" class=\"dataframe\">\n",
       "  <thead>\n",
       "    <tr style=\"text-align: right;\">\n",
       "      <th></th>\n",
       "      <th>diagnosis_code</th>\n",
       "      <th>diagnosis_display</th>\n",
       "      <th>diagnosis_system</th>\n",
       "    </tr>\n",
       "  </thead>\n",
       "  <tbody>\n",
       "  </tbody>\n",
       "</table>\n",
       "</div>"
      ],
      "text/plain": [
       "Empty DataFrame\n",
       "Columns: [diagnosis_code, diagnosis_display, diagnosis_system]\n",
       "Index: []"
      ]
     },
     "execution_count": 14,
     "metadata": {},
     "output_type": "execute_result"
    }
   ],
   "source": [
    "# Create Diagnoses Table\n",
    "cursor.execute('''\n",
    "    CREATE TABLE IF NOT EXISTS diagnoses (\n",
    "        diagnosis_code TEXT PRIMARY KEY,\n",
    "        diagnosis_display TEXT,\n",
    "        diagnosis_system TEXT\n",
    "    )\n",
    "''')\n",
    "# Query and display\n",
    "diagnoses = pd.read_sql_query(\"SELECT * FROM diagnoses\", conn)\n",
    "diagnoses"
   ]
  },
  {
   "cell_type": "code",
   "execution_count": 15,
   "id": "27ea7c4a",
   "metadata": {},
   "outputs": [
    {
     "data": {
      "text/html": [
       "<div>\n",
       "<style scoped>\n",
       "    .dataframe tbody tr th:only-of-type {\n",
       "        vertical-align: middle;\n",
       "    }\n",
       "\n",
       "    .dataframe tbody tr th {\n",
       "        vertical-align: top;\n",
       "    }\n",
       "\n",
       "    .dataframe thead th {\n",
       "        text-align: right;\n",
       "    }\n",
       "</style>\n",
       "<table border=\"1\" class=\"dataframe\">\n",
       "  <thead>\n",
       "    <tr style=\"text-align: right;\">\n",
       "      <th></th>\n",
       "      <th>encounter_id</th>\n",
       "      <th>patient_id</th>\n",
       "      <th>status</th>\n",
       "      <th>type_id</th>\n",
       "      <th>practitioner_name</th>\n",
       "      <th>encounter_date</th>\n",
       "      <th>condition_observed</th>\n",
       "      <th>location_id</th>\n",
       "      <th>diagnosis_code</th>\n",
       "    </tr>\n",
       "  </thead>\n",
       "  <tbody>\n",
       "  </tbody>\n",
       "</table>\n",
       "</div>"
      ],
      "text/plain": [
       "Empty DataFrame\n",
       "Columns: [encounter_id, patient_id, status, type_id, practitioner_name, encounter_date, condition_observed, location_id, diagnosis_code]\n",
       "Index: []"
      ]
     },
     "execution_count": 15,
     "metadata": {},
     "output_type": "execute_result"
    }
   ],
   "source": [
    "# Create Encounters Table\n",
    "cursor.execute('''\n",
    "    CREATE TABLE IF NOT EXISTS encounters (\n",
    "        encounter_id INTEGER PRIMARY KEY,\n",
    "        patient_id INTEGER,\n",
    "        status TEXT,\n",
    "        type_id INTEGER,\n",
    "        practitioner_name TEXT,\n",
    "        encounter_date DATE,\n",
    "        condition_observed TEXT,\n",
    "        location_id INTEGER,\n",
    "        diagnosis_code TEXT,\n",
    "        FOREIGN KEY (patient_id) REFERENCES patients(patient_id),\n",
    "        FOREIGN KEY (type_id) REFERENCES encounter_types(type_id),\n",
    "        FOREIGN KEY (location_id) REFERENCES locations(location_id),\n",
    "        FOREIGN KEY (diagnosis_code) REFERENCES diagnoses(diagnosis_code)\n",
    "    )\n",
    "''')\n",
    "# Query and display\n",
    "encounters = pd.read_sql_query(\"SELECT * FROM encounters\", conn)\n",
    "encounters"
   ]
  },
  {
   "cell_type": "code",
   "execution_count": 18,
   "id": "2d420955",
   "metadata": {},
   "outputs": [
    {
     "ename": "NameError",
     "evalue": "name 'json' is not defined",
     "output_type": "error",
     "traceback": [
      "\u001b[0;31m---------------------------------------------------------------------------\u001b[0m",
      "\u001b[0;31mNameError\u001b[0m                                 Traceback (most recent call last)",
      "\u001b[0;32m/var/folders/jz/x3l0yv6j3tl5ggjphgrgsbr40000gn/T/ipykernel_80619/2324000053.py\u001b[0m in \u001b[0;36m<module>\u001b[0;34m\u001b[0m\n\u001b[1;32m      1\u001b[0m \u001b[0;31m# Read data from the JSON file\u001b[0m\u001b[0;34m\u001b[0m\u001b[0;34m\u001b[0m\u001b[0m\n\u001b[1;32m      2\u001b[0m \u001b[0;32mwith\u001b[0m \u001b[0mopen\u001b[0m\u001b[0;34m(\u001b[0m\u001b[0;34m'fhir_encounters.jsonl'\u001b[0m\u001b[0;34m,\u001b[0m \u001b[0;34m'r'\u001b[0m\u001b[0;34m)\u001b[0m \u001b[0;32mas\u001b[0m \u001b[0mfile\u001b[0m\u001b[0;34m:\u001b[0m\u001b[0;34m\u001b[0m\u001b[0;34m\u001b[0m\u001b[0m\n\u001b[0;32m----> 3\u001b[0;31m     \u001b[0mdata\u001b[0m \u001b[0;34m=\u001b[0m \u001b[0mjson\u001b[0m\u001b[0;34m.\u001b[0m\u001b[0mload\u001b[0m\u001b[0;34m(\u001b[0m\u001b[0mfile\u001b[0m\u001b[0;34m)\u001b[0m\u001b[0;34m\u001b[0m\u001b[0;34m\u001b[0m\u001b[0m\n\u001b[0m",
      "\u001b[0;31mNameError\u001b[0m: name 'json' is not defined"
     ]
    }
   ],
   "source": [
    "# Read data from the JSON file\n",
    "with open('fhir_encounters.jsonl', 'r') as file:\n",
    "    data = json.load(file)"
   ]
  },
  {
   "cell_type": "code",
   "execution_count": null,
   "id": "068034e6",
   "metadata": {},
   "outputs": [],
   "source": []
  }
 ],
 "metadata": {
  "kernelspec": {
   "display_name": "Python 3 (ipykernel)",
   "language": "python",
   "name": "python3"
  },
  "language_info": {
   "codemirror_mode": {
    "name": "ipython",
    "version": 3
   },
   "file_extension": ".py",
   "mimetype": "text/x-python",
   "name": "python",
   "nbconvert_exporter": "python",
   "pygments_lexer": "ipython3",
   "version": "3.9.7"
  }
 },
 "nbformat": 4,
 "nbformat_minor": 5
}
