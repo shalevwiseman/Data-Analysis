{
 "cells": [
  {
   "cell_type": "code",
   "execution_count": 1,
   "id": "571b0c75",
   "metadata": {},
   "outputs": [],
   "source": [
    "import sqlite3\n",
    "import json\n",
    "from jsonlines import jsonlines"
   ]
  },
  {
   "cell_type": "code",
   "execution_count": 4,
   "id": "4bb03c88",
   "metadata": {},
   "outputs": [],
   "source": [
    "\n",
    "with open('fhir_encounters.jsonl', 'r') as file:\n",
    "    data = file.readlines()\n",
    "\n",
    "# Split the string into individual objects\n",
    "json_objects = data.split('}\\n{')\n",
    "json_objects[0] = json_objects[0][1:]\n",
    "json_objects[-1] = json_objects[-1][:-1]"
   ]
  },
  {
   "cell_type": "code",
   "execution_count": null,
   "id": "bfecd1ac",
   "metadata": {},
   "outputs": [],
   "source": []
  }
 ],
 "metadata": {
  "kernelspec": {
   "display_name": "Python 3 (ipykernel)",
   "language": "python",
   "name": "python3"
  },
  "language_info": {
   "codemirror_mode": {
    "name": "ipython",
    "version": 3
   },
   "file_extension": ".py",
   "mimetype": "text/x-python",
   "name": "python",
   "nbconvert_exporter": "python",
   "pygments_lexer": "ipython3",
   "version": "3.9.7"
  }
 },
 "nbformat": 4,
 "nbformat_minor": 5
}
